{
 "cells": [
  {
   "cell_type": "code",
   "execution_count": null,
   "id": "great-logan",
   "metadata": {},
   "outputs": [],
   "source": [
    "# LAMBDA PYTHON IMPORT\n",
    "import os\n",
    "import sys\n",
    "sys.path.insert(0, os.path.abspath('./code/'))\n",
    "\n",
    "# PYSPARK IMPORT\n",
    "from pyspark.sql import SparkSession\n",
    "from pyspark.sql.functions import *\n",
    "spark = SparkSession.builder.getOrCreate()\n",
    "\n",
    "# CUSTOM IMPORT\n",
    "import entryPoint"
   ]
  },
  {
   "cell_type": "code",
   "execution_count": null,
   "id": "iraqi-nation",
   "metadata": {},
   "outputs": [],
   "source": [
    "# IMPORT DATASET\n",
    "path = \"./data/subventions-accordees-et-refusees.csv\"\n",
    "df = spark.read.format('csv').options(header=True, inferSchema=True, sep =';').load(path)\n",
    "\n",
    "newColumns = ['Num', 'Annee', 'Collectivite', 'Benificiaire', 'Siret', 'Objet', 'Montant', 'Direction', 'Nature', 'Secteur']\n",
    "df = df.toDF(*newColumns)"
   ]
  },
  {
   "cell_type": "code",
   "execution_count": null,
   "id": "current-senegal",
   "metadata": {},
   "outputs": [],
   "source": [
    "# Récupération des secteurs\n",
    "\n",
    "secteurs = entryPoint.getAllSecteur(df)\n",
    "\n",
    "for secteur in secteurs:\n",
    "    print(secteur)"
   ]
  },
  {
   "cell_type": "code",
   "execution_count": null,
   "id": "modified-burst",
   "metadata": {},
   "outputs": [],
   "source": [
    "# Récupérer uniquement un `Secteur` spécifique\n",
    "\n",
    "entryPoint.selectSecteur(df, 'Vie et animation locale').take(10)"
   ]
  },
  {
   "cell_type": "code",
   "execution_count": null,
   "id": "rubber-overall",
   "metadata": {},
   "outputs": [],
   "source": [
    "# Permet d'obtenir le montant total des 5 directions qui subventionnent le plus les associations.\n",
    "\n",
    "entryPoint.getAmountSubventionByDirection(df)"
   ]
  },
  {
   "cell_type": "code",
   "execution_count": null,
   "id": "final-cooling",
   "metadata": {},
   "outputs": [],
   "source": [
    "# Permet d'obtenir le nombre total de subvention accordées par les directions.\n",
    "\n",
    "entryPoint.getCountAcceptedSubventionByDirection(df)"
   ]
  },
  {
   "cell_type": "code",
   "execution_count": null,
   "id": "dutch-medication",
   "metadata": {},
   "outputs": [],
   "source": [
    "def myFlatMap(words, amount):\n",
    "    '''\n",
    "        Transforme en lowercase, supprime les doublons, retourne (mot, montant)\n",
    "    '''\n",
    "    words = map(lambda word: word.lower(), words)\n",
    "    words = set(words)\n",
    "    words = map(lambda word: (word, amount), words)\n",
    "    \n",
    "    return words\n",
    "\n",
    "def myReducer(accumulator, currentValue):\n",
    "    '''\n",
    "        Convertie et additionne les deux valeurs\n",
    "    '''\n",
    "    try:\n",
    "        accumulator = int(accumulator)\n",
    "    except:\n",
    "        accumulator = 0\n",
    "    try:\n",
    "        currentValue = int(currentValue)\n",
    "    except:\n",
    "        currentValue = 0\n",
    "    \n",
    "    return accumulator + currentValue\n",
    "        \n",
    "\n",
    "def getMontantByWord(df):\n",
    "    '''\n",
    "        Récupérer le `Montant` en fonction des mots clée présent dans `Objet`\n",
    "    '''\n",
    "    bannedWords = ('de', 'et', 'la', '-', 'du', 'des', 'pour', 'en', 'dans', 'le', 'à', 'les', 'au', 'aux', 'sur', \\\n",
    "                'd\\'un', 'd\\'une', ':', 'par', 'avec', '')\n",
    "\n",
    "    dfObjectWordMontant = df.select(\"Objet\", \"Montant\")\n",
    "    return dfObjectWordMontant.rdd.map(lambda row: [str(row[0]).split(' '), row[1]]) \\\n",
    "            .flatMap(lambda row: myFlatMap(row[0], row[1])) \\\n",
    "            .reduceByKey(lambda accumulator, currentValue : myReducer(accumulator, currentValue)) \\\n",
    "            .toDF() \\\n",
    "            .where(f\"_1 NOT IN {bannedWords}\") \\\n",
    "            .sort(desc('_2'))"
   ]
  },
  {
   "cell_type": "code",
   "execution_count": null,
   "id": "canadian-beijing",
   "metadata": {},
   "outputs": [],
   "source": [
    "# Récupérer le `Montant` en fonction des mots clée présent dans `Objet`\n",
    "\n",
    "getMontantByWord(df).show(20)"
   ]
  },
  {
   "cell_type": "code",
   "execution_count": null,
   "id": "scenic-sarah",
   "metadata": {},
   "outputs": [],
   "source": [
    "# Montant des subventions accordées par bénéficiaires\n",
    "\n",
    "entryPoint.subvention_by_actor(df)"
   ]
  },
  {
   "cell_type": "code",
   "execution_count": null,
   "id": "improving-conservation",
   "metadata": {},
   "outputs": [],
   "source": [
    "# Demandes d'argent les plus importantes, tous bénéficiaires confondus, toutes années confondues\n",
    "\n",
    "entryPoint.subvention_by_actor_ordered(df)"
   ]
  },
  {
   "cell_type": "code",
   "execution_count": null,
   "id": "impressed-strap",
   "metadata": {},
   "outputs": [],
   "source": [
    "# Nombre de demandes par année, par bénéficiaire\n",
    "\n",
    "entryPoint.requests_by_actors_by_year(df)"
   ]
  },
  {
   "cell_type": "code",
   "execution_count": null,
   "id": "black-lightweight",
   "metadata": {},
   "outputs": [],
   "source": [
    "# Nombre total de bénéficiaires\n",
    "\n",
    "entryPoint.total_of_actors(df)"
   ]
  },
  {
   "cell_type": "code",
   "execution_count": null,
   "id": "attempted-southeast",
   "metadata": {},
   "outputs": [],
   "source": [
    "# Bénéficiaires ayant fait le plus de demandes, par année\n",
    "\n",
    "entryPoint.max_requests_by_actors_by_year(df)"
   ]
  },
  {
   "cell_type": "code",
   "execution_count": null,
   "id": "valued-camera",
   "metadata": {},
   "outputs": [],
   "source": [
    "# Bénéficiaire ayant touché le plus d'argent, par année\n",
    "\n",
    "entryPoint.max_amount_by_actors_by_year(df)"
   ]
  }
 ],
 "metadata": {
  "kernelspec": {
   "display_name": "Python 3",
   "language": "python",
   "name": "python3"
  },
  "language_info": {
   "codemirror_mode": {
    "name": "ipython",
    "version": 3
   },
   "file_extension": ".py",
   "mimetype": "text/x-python",
   "name": "python",
   "nbconvert_exporter": "python",
   "pygments_lexer": "ipython3",
   "version": "3.8.6"
  }
 },
 "nbformat": 4,
 "nbformat_minor": 5
}
