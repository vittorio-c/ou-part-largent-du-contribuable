{
 "cells": [
  {
   "cell_type": "code",
   "execution_count": 1,
   "id": "great-logan",
   "metadata": {},
   "outputs": [],
   "source": [
    "# LAMBDA PYTHON IMPORT\n",
    "import os\n",
    "import sys\n",
    "sys.path.insert(0, os.path.abspath('./code/'))\n",
    "\n",
    "# PYSPARK IMPORT\n",
    "from pyspark.sql import SparkSession\n",
    "spark = SparkSession.builder.getOrCreate()\n",
    "\n",
    "# CUSTOM IMPORT\n",
    "import entryPoint"
   ]
  },
  {
   "cell_type": "code",
   "execution_count": 2,
   "id": "iraqi-nation",
   "metadata": {},
   "outputs": [],
   "source": [
    "# IMPORT DATASET\n",
    "path = \"./data/subventions-accordees-et-refusees.csv\"\n",
    "df = spark.read.format('csv').options(header=True, inferSchema=True, sep =';').load(path)\n",
    "\n",
    "newColumns = ['Num', 'Annee', 'Collectivite', 'Benificiaire', 'Siret', 'Objet', 'Montant', 'Direction', 'Nature', 'Secteur']\n",
    "df = df.toDF(*newColumns)"
   ]
  },
  {
   "cell_type": "code",
   "execution_count": 3,
   "id": "current-senegal",
   "metadata": {},
   "outputs": [
    {
     "name": "stdout",
     "output_type": "stream",
     "text": [
      "Aides aux associations\n",
      "Architecture & urbanisme\n",
      "Communication & média\n",
      "Culture & Arts\n",
      "Défense des droits et des intérêts\n",
      "Déplacements et transports\n",
      "Economie\n",
      "Education & formation\n",
      "Emploi\n",
      "Environnement & écologie\n",
      "Humanitaire\n",
      "Idée & opinion\n",
      "Loisirs\n",
      "Mémoire\n",
      "Précarité & Exclusion\n",
      "Relations internationales\n",
      "Santé\n",
      "Social\n",
      "Sport\n",
      "Technique & Recherche\n",
      "Tourisme\n",
      "Vie et animation locale\n"
     ]
    }
   ],
   "source": [
    "# Récupération des secteurs\n",
    "\n",
    "secteurs = entryPoint.getAllSecteur(df)\n",
    "\n",
    "for secteur in secteurs:\n",
    "    print(secteur)"
   ]
  },
  {
   "cell_type": "code",
   "execution_count": 4,
   "id": "modified-burst",
   "metadata": {},
   "outputs": [
    {
     "data": {
      "text/plain": [
       "[Row(Num='2019_05884', Annee=2019, Collectivite='Ville de Paris', Benificiaire='129 H PRODUCTIONS', Siret='44326922000036', Objet='Le Grand Slam des Amandiers', Montant='2500', Direction='DAC', Nature='Projet', Secteur='Culture & Arts;Education & formation;Vie et animation locale'),\n",
       " Row(Num='2019_06441', Annee=2019, Collectivite='Ville de Paris', Benificiaire='13 POUR TOUS', Siret='48905531900029', Objet='Pause toi là', Montant='3000', Direction='DJS', Nature='Projet', Secteur='Loisirs;Social;Vie et animation locale'),\n",
       " Row(Num='2019_02145', Annee=2019, Collectivite='Ville de Paris', Benificiaire='3 S : SEJOUR SPORTIF SOLIDAIRE', Siret='81147565600013', Objet='Transport, voirie, déplacements et espace public', Montant='0', Direction='DVD', Nature='Non précisée', Secteur='Environnement & écologie;Sport;Vie et animation locale'),\n",
       " Row(Num='2019_07417', Annee=2019, Collectivite='Ville de Paris', Benificiaire=\"ACCUEIL GOUTTE D'OR\", Siret='40864600800057', Objet=\"Atelier Parents d'enfants Parents d'élèves\", Montant='0', Direction='DFPE', Nature='Non précisée', Secteur='Education & formation;Social;Vie et animation locale'),\n",
       " Row(Num='2019_02741', Annee=2019, Collectivite='Ville de Paris', Benificiaire=\"ACCUEIL GOUTTE D'OR\", Siret='40864600800057', Objet=\"Atelier Parents d'enfants Parents d'élèves\", Montant='3000', Direction='DDCT', Nature='Projet', Secteur='Education & formation;Social;Vie et animation locale'),\n",
       " Row(Num='2019_08183', Annee=2019, Collectivite='Ville de Paris', Benificiaire=\"ACCUEIL GOUTTE D'OR\", Siret='40864600800057', Objet=\"Co-fiancement DDCT d'un adulte relais aAR075 17 R0025 00\", Montant='4700', Direction='DDCT', Nature='Fonctionnement', Secteur='Education & formation;Social;Vie et animation locale'),\n",
       " Row(Num='2019_07991', Annee=2019, Collectivite='Ville de Paris', Benificiaire=\"ACCUEIL GOUTTE D'OR\", Siret='40864600800057', Objet='Renforcer son français pour une meilleure insertion professionnelle', Montant='0', Direction='DDCT', Nature='Non précisée', Secteur='Education & formation;Social;Vie et animation locale'),\n",
       " Row(Num='2019_00293', Annee=2019, Collectivite='Ville de Paris', Benificiaire='ACTE  -  ASSOCIATION CULTURES TERRITOIRES', Siret=None, Objet='CERCLES EN DANSE', Montant='0', Direction='DAC', Nature='Non précisée', Secteur='Culture & Arts;Social;Vie et animation locale'),\n",
       " Row(Num='2020_00472', Annee=2019, Collectivite='Ville de Paris', Benificiaire=\"AGECA ASSOCIATION POUR LA GESTION D'UN CENTRE D'ANIMATION CULTURELLE\", Siret='30048530700015', Objet='DASES SPLEX IN', Montant='50000', Direction='DASES', Nature='Projet', Secteur='Aides aux associations;Education & formation;Vie et animation locale'),\n",
       " Row(Num='2019_06141', Annee=2019, Collectivite='Ville de Paris', Benificiaire=\"AGENCE LOCALE D'INITIATIVES NOUVELLES POUR UNE ÉCONOMIE AUTRE ET SOLIDAIRE (A.L.I.N.E.A.S)\", Siret='44050035300030', Objet='\"Accompagnement et animation du collectif \"\" La Bonne Tambouille\"\" secteur Tristan Tzara - quartier pri\"', Montant='0', Direction='DAE', Nature='Non précisée', Secteur='Economie;Education & formation;Vie et animation locale')]"
      ]
     },
     "execution_count": 4,
     "metadata": {},
     "output_type": "execute_result"
    }
   ],
   "source": [
    "# Récupérer uniquement un `Secteur` spécifique\n",
    "\n",
    "entryPoint.selectSecteur(df, 'Vie et animation locale').take(10)"
   ]
  },
  {
   "cell_type": "code",
   "execution_count": 5,
   "id": "rubber-overall",
   "metadata": {},
   "outputs": [],
   "source": [
    "# Permet d'obtenir le montant total des 5 directions qui subventionnent le plus les associations.\n",
    "\n",
    "#entryPoint.getAmountSubventionByDirection(df)"
   ]
  },
  {
   "cell_type": "code",
   "execution_count": 6,
   "id": "final-cooling",
   "metadata": {},
   "outputs": [],
   "source": [
    "#Permet d'obtenir le nombre total de subvention accordées par les directions.\n",
    "\n",
    "#entryPoint.getCountAcceptedSubventionByDirection(df)"
   ]
  },
  {
   "cell_type": "code",
   "execution_count": 7,
   "id": "attached-material",
   "metadata": {},
   "outputs": [
    {
     "name": "stdout",
     "output_type": "stream",
     "text": [
      "+-----+--------------+\n",
      "|Annee|count(Secteur)|\n",
      "+-----+--------------+\n",
      "| 2013|          8157|\n",
      "| 2014|          7643|\n",
      "| 2015|          8210|\n",
      "| 2016|          8814|\n",
      "| 2017|          8635|\n",
      "| 2018|          8394|\n",
      "| 2019|          9554|\n",
      "| 2020|         10098|\n",
      "+-----+--------------+\n",
      "\n"
     ]
    }
   ],
   "source": [
    "#Combien il y a eu de Secteur par année\n",
    "\n",
    "entryPoint.getSecteurParAnnee(df)\n"
   ]
  },
  {
   "cell_type": "code",
   "execution_count": 8,
   "id": "lasting-booking",
   "metadata": {},
   "outputs": [
    {
     "name": "stdout",
     "output_type": "stream",
     "text": [
      "+-----+--------------------+------------+\n",
      "|Annee|             secteur|sum(Montant)|\n",
      "+-----+--------------------+------------+\n",
      "| 2019|Aides aux associa...|    539028.0|\n",
      "| 2019|Précarité & Exclu...|         0.0|\n",
      "| 2017|Education & forma...|     33500.0|\n",
      "| 2018|Education & forma...|    135682.0|\n",
      "| 2014|Humanitaire;Santé...|   2900547.0|\n",
      "| 2017|Défense des droit...|         0.0|\n",
      "| 2017|Education & forma...|     15311.0|\n",
      "| 2013|Défense des droit...|     93406.0|\n",
      "| 2015|Défense des droit...|    101800.0|\n",
      "| 2015|Culture & Arts;Ed...|     32518.0|\n",
      "| 2018|Aides aux associa...|      4500.0|\n",
      "| 2017|Communication & m...|      2000.0|\n",
      "| 2016|Défense des droit...|    145802.0|\n",
      "| 2015|Culture & Arts;Dé...|     34800.0|\n",
      "| 2016|Communication & m...|         0.0|\n",
      "| 2017|Architecture & ur...|         0.0|\n",
      "| 2013|Education & forma...|      4000.0|\n",
      "| 2016|Communication & m...|     10000.0|\n",
      "| 2019|Economie;Educatio...|         0.0|\n",
      "| 2019|Architecture & ur...|      6300.0|\n",
      "+-----+--------------------+------------+\n",
      "only showing top 20 rows\n",
      "\n"
     ]
    }
   ],
   "source": [
    "#Quel est le montant accordé par Secteur par année\n",
    "\n",
    "entryPoint.montantSecteurAnnee(df)\n"
   ]
  },
  {
   "cell_type": "code",
   "execution_count": null,
   "id": "sixth-cabin",
   "metadata": {},
   "outputs": [],
   "source": []
  },
  {
   "cell_type": "code",
   "execution_count": null,
   "id": "protected-pleasure",
   "metadata": {},
   "outputs": [],
   "source": []
  }
 ],
 "metadata": {
  "kernelspec": {
   "display_name": "Python 3",
   "language": "python",
   "name": "python3"
  },
  "language_info": {
   "codemirror_mode": {
    "name": "ipython",
    "version": 3
   },
   "file_extension": ".py",
   "mimetype": "text/x-python",
   "name": "python",
   "nbconvert_exporter": "python",
   "pygments_lexer": "ipython3",
   "version": "3.8.6"
  }
 },
 "nbformat": 4,
 "nbformat_minor": 5
}
