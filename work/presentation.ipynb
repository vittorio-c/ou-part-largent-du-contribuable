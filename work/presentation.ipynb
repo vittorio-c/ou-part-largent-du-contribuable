{
 "cells": [
  {
   "cell_type": "code",
   "execution_count": null,
   "id": "great-logan",
   "metadata": {
    "scrolled": true
   },
   "outputs": [],
   "source": [
    "# LAMBDA PYTHON IMPORT\n",
    "import os\n",
    "import sys\n",
    "sys.path.insert(0, os.path.abspath('./code/'))\n",
    "\n",
    "# PYSPARK IMPORT\n",
    "from pyspark.sql import SparkSession\n",
    "spark = SparkSession.builder.getOrCreate()\n",
    "\n",
    "# CUSTOM IMPORT\n",
    "import entryPoint"
   ]
  },
  {
   "cell_type": "code",
   "execution_count": null,
   "id": "reduced-desert",
   "metadata": {
    "scrolled": true
   },
   "outputs": [],
   "source": [
    "# IMPORT DATASET\n",
    "path = \"./data/subventions-accordees-et-refusees.csv\"\n",
    "df = spark.read.format('csv').options(header=True, inferSchema=True, sep =';').load(path)\n",
    "\n",
    "newColumns = ['Num', 'Annee', 'Collectivite', 'Benificiaire', 'Siret', 'Objet', 'Montant', 'Direction', 'Nature', 'Secteur']\n",
    "df = df.toDF(*newColumns)"
   ]
  },
  {
   "cell_type": "code",
   "execution_count": null,
   "id": "personal-trance",
   "metadata": {
    "scrolled": true
   },
   "outputs": [],
   "source": [
    "# Récupération des secteurs\n",
    "\n",
    "secteurs = entryPoint.getAllSecteur(df)\n",
    "\n",
    "for secteur in secteurs:\n",
    "    print(secteur)"
   ]
  },
  {
   "cell_type": "code",
   "execution_count": null,
   "id": "thrown-peeing",
   "metadata": {
    "scrolled": true
   },
   "outputs": [],
   "source": [
    "# Récupérer uniquement un `Secteur` spécifique\n",
    "\n",
    "entryPoint.selectSecteur(df, 'Vie et animation locale').take(10)"
   ]
  },
  {
   "cell_type": "code",
   "execution_count": null,
   "id": "exact-intranet",
   "metadata": {
    "scrolled": true
   },
   "outputs": [],
   "source": [
    "# Permet d'obtenir le montant total des 5 directions qui subventionnent le plus les associations.\n",
    "\n",
    "entryPoint.getAmountSubventionByDirection(df)"
   ]
  },
  {
   "cell_type": "code",
   "execution_count": null,
   "id": "welsh-radio",
   "metadata": {
    "scrolled": true
   },
   "outputs": [],
   "source": [
    "#Permet d'obtenir le nombre total de subvention accordées par les directions.\n",
    "\n",
    "entryPoint.getCountAcceptedSubventionByDirection(df)"
   ]
  },
  {
   "cell_type": "code",
   "execution_count": null,
   "id": "natural-holly",
   "metadata": {
    "scrolled": true
   },
   "outputs": [],
   "source": [
    "# Montant des subventions accordées par bénéficiaires\n",
    "\n",
    "entryPoint.subvention_by_actor(df)"
   ]
  },
  {
   "cell_type": "code",
   "execution_count": null,
   "id": "cardiac-student",
   "metadata": {
    "scrolled": true
   },
   "outputs": [],
   "source": [
    "# Demandes d'argent les plus importantes, tous bénéficiaires confondus, toutes années confondues\n",
    "\n",
    "entryPoint.subvention_by_actor_ordered(df)"
   ]
  },
  {
   "cell_type": "code",
   "execution_count": null,
   "id": "adult-estonia",
   "metadata": {
    "scrolled": true
   },
   "outputs": [],
   "source": [
    "# Nombre de demandes par année, par bénéficiaire\n",
    "\n",
    "entryPoint.requests_by_actors_by_year(df)"
   ]
  },
  {
   "cell_type": "code",
   "execution_count": null,
   "id": "molecular-peoples",
   "metadata": {
    "scrolled": true
   },
   "outputs": [],
   "source": [
    "# Nombre total de bénéficiaires\n",
    "\n",
    "entryPoint.total_of_actors(df)"
   ]
  },
  {
   "cell_type": "code",
   "execution_count": null,
   "id": "global-equivalent",
   "metadata": {
    "scrolled": true
   },
   "outputs": [],
   "source": [
    "# Bénéficiaires ayant fait le plus de demandes, par année\n",
    "\n",
    "entryPoint.max_requests_by_actors_by_year(df)"
   ]
  },
  {
   "cell_type": "code",
   "execution_count": null,
   "id": "aboriginal-private",
   "metadata": {
    "scrolled": true
   },
   "outputs": [],
   "source": [
    "# Bénéficiaire ayant touché le plus d'argent, par année\n",
    "\n",
    "entryPoint.max_amount_by_actors_by_year(df)"
   ]
  },
  {
   "cell_type": "code",
   "execution_count": null,
   "id": "scheduled-diamond",
   "metadata": {
    "scrolled": true
   },
   "outputs": [],
   "source": []
  }
 ],
 "metadata": {
  "kernelspec": {
   "display_name": "Python 3",
   "language": "python",
   "name": "python3"
  },
  "language_info": {
   "codemirror_mode": {
    "name": "ipython",
    "version": 3
   },
   "file_extension": ".py",
   "mimetype": "text/x-python",
   "name": "python",
   "nbconvert_exporter": "python",
   "pygments_lexer": "ipython3",
   "version": "3.8.6"
  }
 },
 "nbformat": 4,
 "nbformat_minor": 5
}
