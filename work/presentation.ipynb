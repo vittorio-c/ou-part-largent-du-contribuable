{
 "cells": [
  {
   "cell_type": "code",
   "execution_count": null,
   "id": "great-logan",
   "metadata": {},
   "outputs": [],
   "source": [
    "# LAMBDA PYTHON IMPORT\n",
    "import os\n",
    "import sys\n",
    "sys.path.insert(0, os.path.abspath('./code/'))\n",
    "\n",
    "# PYSPARK IMPORT\n",
    "from pyspark.sql import SparkSession\n",
    "spark = SparkSession.builder.getOrCreate()\n",
    "\n",
    "# CUSTOM IMPORT\n",
    "import entryPoint"
   ]
  },
  {
   "cell_type": "code",
   "execution_count": null,
   "id": "iraqi-nation",
   "metadata": {},
   "outputs": [],
   "source": [
    "# IMPORT DATASET\n",
    "path = \"./data/subventions-accordees-et-refusees.csv\"\n",
    "df = spark.read.format('csv').options(header=True, inferSchema=True, sep =';').load(path)\n",
    "\n",
    "newColumns = ['Num', 'Annee', 'Collectivite', 'Benificiaire', 'Siret', 'Objet', 'Montant', 'Direction', 'Nature', 'Secteur']\n",
    "df = df.toDF(*newColumns)"
   ]
  },
  {
   "cell_type": "code",
   "execution_count": null,
   "id": "current-senegal",
   "metadata": {},
   "outputs": [],
   "source": [
    "# Récupération des secteurs\n",
    "\n",
    "secteurs = entryPoint.getAllSecteur(df)\n",
    "\n",
    "for secteur in secteurs:\n",
    "    print(secteur)"
   ]
  },
  {
   "cell_type": "code",
   "execution_count": null,
   "id": "modified-burst",
   "metadata": {},
   "outputs": [],
   "source": [
    "# Récupérer uniquement un `Secteur` spécifique\n",
    "\n",
    "entryPoint.selectSecteur(df, 'Vie et animation locale').take(10)"
   ]
  }
 ],
 "metadata": {
  "kernelspec": {
   "display_name": "Python 3",
   "language": "python",
   "name": "python3"
  },
  "language_info": {
   "codemirror_mode": {
    "name": "ipython",
    "version": 3
   },
   "file_extension": ".py",
   "mimetype": "text/x-python",
   "name": "python",
   "nbconvert_exporter": "python",
   "pygments_lexer": "ipython3",
   "version": "3.8.6"
  }
 },
 "nbformat": 4,
 "nbformat_minor": 5
}
